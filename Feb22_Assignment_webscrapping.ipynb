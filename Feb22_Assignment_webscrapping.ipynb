{
 "cells": [
  {
   "cell_type": "markdown",
   "id": "8ff9176d",
   "metadata": {},
   "source": [
    "### Youtube videos details assignment"
   ]
  },
  {
   "cell_type": "markdown",
   "id": "da455522",
   "metadata": {},
   "source": [
    "Go to this given URL and solve the following questions\n",
    "\n",
    "URL: https://www.youtube.com/@PW-Foundation/videos"
   ]
  },
  {
   "cell_type": "code",
   "execution_count": 3,
   "id": "7e0bbb76",
   "metadata": {},
   "outputs": [],
   "source": [
    "from selenium import webdriver\n",
    "import time\n",
    "# import pandas as pd\n",
    "\n",
    "driver = webdriver.Chrome(executable_path = \"chromedriver\")\n",
    "url = \"https://www.youtube.com/@PW-Foundation/videos\"\n",
    "driver.get(url)\n",
    "\n",
    "SCROLL_PAUSE_TIME = 3\n",
    "\n",
    "# Get scroll height\n",
    "\n",
    "last_height = driver.execute_script(\"return document.documentElement.scrollHeight\")\n",
    "# print(last_height)\n",
    "\n",
    "while True:\n",
    "    #scroll down to bottom\n",
    "    driver.execute_script(\"window.scrollTo(0,arguments[0]);\", last_height)\n",
    "    ##wait to load the page\n",
    "    time.sleep(SCROLL_PAUSE_TIME)\n",
    "    \n",
    "    #calculate new scroll height and compare with last scroll height\n",
    "    new_height = driver.execute_script(\"return document.documentElement.scrollHeight\")\n",
    "    if new_height == last_height:\n",
    "        break\n",
    "    last_height = new_height\n",
    "    \n",
    "vid_urls = driver.find_elements(\"xpath\", '//*[@id=\"video-title-link\"]')\n",
    "thumburls = driver.find_elements(\"xpath\",'//*[@id=\"thumbnail\"]/yt-image/img')\n",
    "# titles = driver.find_elements(\"xpath\", '//*[@id=\"video-title-link\"]')\n",
    "views = driver.find_elements(\"xpath\", '//*[@id=\"metadata-line\"]/span[1]')\n",
    "created = driver.find_elements(\"xpath\", '//*[@id=\"metadata-line\"]/span[2]')\n",
    "# thumburls[5].text\n",
    "# driver.quit()\n",
    "# //*[@id=\"thumbnail\"]/yt-image/img"
   ]
  },
  {
   "cell_type": "code",
   "execution_count": 158,
   "id": "9f7f15ff",
   "metadata": {},
   "outputs": [
    {
     "data": {
      "text/plain": [
       "'https://www.youtube.com/watch?v=S0RySN5arvk'"
      ]
     },
     "execution_count": 158,
     "metadata": {},
     "output_type": "execute_result"
    }
   ],
   "source": [
    "vid_urls[0].get_attribute(\"href\")"
   ]
  },
  {
   "cell_type": "markdown",
   "id": "ef8b3abf",
   "metadata": {},
   "source": [
    "### Question 1\n",
    "Q1. Write a python program to extract the video URL of the first five videos."
   ]
  },
  {
   "cell_type": "code",
   "execution_count": 43,
   "id": "50a6bbae",
   "metadata": {},
   "outputs": [
    {
     "name": "stdout",
     "output_type": "stream",
     "text": [
      "https://www.youtube.com/watch?v=S0RySN5arvk\n",
      "https://www.youtube.com/watch?v=HzBhwxMrt8A\n",
      "https://www.youtube.com/watch?v=60_B3haKADw\n",
      "https://www.youtube.com/watch?v=46CNHP9wBAs\n",
      "https://www.youtube.com/watch?v=1Wk5gJtZ2sQ\n"
     ]
    }
   ],
   "source": [
    "vidUrl = []\n",
    "for i in vid_urls[:5]:\n",
    "    print(i.get_attribute('href'))\n",
    "    vidUrl.append(i.get_attribute('href'))\n",
    "# print(vidUrl)"
   ]
  },
  {
   "cell_type": "markdown",
   "id": "99221d41",
   "metadata": {},
   "source": [
    "### Question 2\n",
    "Q2. Write a python program to extract the URL of the video thumbnails of the first five videos."
   ]
  },
  {
   "cell_type": "code",
   "execution_count": 44,
   "id": "9c5b611e",
   "metadata": {},
   "outputs": [
    {
     "data": {
      "text/plain": [
       "'https://i.ytimg.com/vi/S0RySN5arvk/hqdefault.jpg?sqp=-oaymwEcCNACELwBSFXyq4qpAw4IARUAAIhCGAFwAcABBg==&rs=AOn4CLBOhnoOmjXFZyCKcKSm5Q-ZERlrZQ'"
      ]
     },
     "execution_count": 44,
     "metadata": {},
     "output_type": "execute_result"
    }
   ],
   "source": [
    "thumburls[0].get_attribute('src')"
   ]
  },
  {
   "cell_type": "code",
   "execution_count": 45,
   "id": "f40995ad",
   "metadata": {},
   "outputs": [
    {
     "name": "stdout",
     "output_type": "stream",
     "text": [
      "https://i.ytimg.com/vi/S0RySN5arvk/hqdefault.jpg?sqp=-oaymwEcCNACELwBSFXyq4qpAw4IARUAAIhCGAFwAcABBg==&rs=AOn4CLBOhnoOmjXFZyCKcKSm5Q-ZERlrZQ\n",
      "https://i.ytimg.com/vi/HzBhwxMrt8A/hqdefault.jpg?sqp=-oaymwEcCNACELwBSFXyq4qpAw4IARUAAIhCGAFwAcABBg==&rs=AOn4CLDxv8xtxXYKf6Zn58zMFt2mqVTTZw\n",
      "https://i.ytimg.com/vi/60_B3haKADw/hqdefault.jpg?sqp=-oaymwEcCNACELwBSFXyq4qpAw4IARUAAIhCGAFwAcABBg==&rs=AOn4CLA9baY1YtDSZafi5-Ej4K4ehDrL_A\n",
      "https://i.ytimg.com/vi/46CNHP9wBAs/hqdefault.jpg?sqp=-oaymwEcCNACELwBSFXyq4qpAw4IARUAAIhCGAFwAcABBg==&rs=AOn4CLBjvT3nT1waDnGZ0G3r-csPJeQF9w\n",
      "https://i.ytimg.com/vi/pXjLbNAa_ag/hqdefault.jpg?sqp=-oaymwEcCNACELwBSFXyq4qpAw4IARUAAIhCGAFwAcABBg==&rs=AOn4CLCen1qfPg4ypFCiezVWQrqIpEEbug\n",
      "https://i.ytimg.com/vi/-abURVi907g/hqdefault.jpg?sqp=-oaymwEcCNACELwBSFXyq4qpAw4IARUAAIhCGAFwAcABBg==&rs=AOn4CLCPJmTEEnsF3GekS0rakIpFVNDx2A\n"
     ]
    }
   ],
   "source": [
    "thumb = []\n",
    "n=0\n",
    "for i in thumburls:\n",
    "    result = i.get_attribute('src')\n",
    "#     print(result)\n",
    "    if result != None:\n",
    "        print(result)\n",
    "        thumb.append(result)\n",
    "#         print()\n",
    "        n += 1\n",
    "#         print(n)\n",
    "    if n>5:\n",
    "        break\n",
    "# print(thumb)"
   ]
  },
  {
   "cell_type": "markdown",
   "id": "088fbb62",
   "metadata": {},
   "source": [
    "### Question 3\n",
    "Q3. Write a python program to extract the title of the first five videos.\n"
   ]
  },
  {
   "cell_type": "code",
   "execution_count": 46,
   "id": "5432d2fb",
   "metadata": {},
   "outputs": [
    {
     "name": "stdout",
     "output_type": "stream",
     "text": [
      "Benefits of Choosing Commerce After 10th | Commerce क्यों लेना चाहिए? | CBSE | ICSE | State Boards\n",
      "Complete 𝗖𝗔𝗥𝗕𝗢𝗡 𝗔𝗡𝗗 𝗜𝗧𝗦 𝗖𝗢𝗠𝗣𝗢𝗨𝗡𝗗𝗦 in 90 Minutes | Class 10th Board Exam\n",
      "Complete 𝗠𝗘𝗧𝗔𝗟𝗦 & 𝗡𝗢𝗡 𝗠𝗘𝗧𝗔𝗟𝗦  in 120 Minutes | Class 10th Board Exam\n",
      "Complete 𝗔𝗖𝗜𝗗, 𝗕𝗔𝗦𝗘𝗦 𝗔𝗡𝗗 𝗦𝗔𝗟𝗧 in 110 Minutes | Class 10th Board Exam\n",
      "Complete 𝗖𝗛𝗘𝗠𝗜𝗖𝗔𝗟 𝗥𝗘𝗔𝗖𝗧𝗜𝗢𝗡  in 90 Minutes | Class 10th Board Exam\n"
     ]
    }
   ],
   "source": [
    "vid_title = []\n",
    "for i in vid_urls[:5]:\n",
    "    print(i.get_attribute('title'))\n",
    "    vid_title.append(i.get_attribute('title'))\n",
    "# print(vid_title)"
   ]
  },
  {
   "cell_type": "markdown",
   "id": "c4e0b4a6",
   "metadata": {},
   "source": [
    "### Question 4\n",
    "Q4. Write a python program to extract the number of views of the first five videos."
   ]
  },
  {
   "cell_type": "code",
   "execution_count": 47,
   "id": "a8086f22",
   "metadata": {},
   "outputs": [
    {
     "data": {
      "text/plain": [
       "'22K views'"
      ]
     },
     "execution_count": 47,
     "metadata": {},
     "output_type": "execute_result"
    }
   ],
   "source": [
    "views[0].text"
   ]
  },
  {
   "cell_type": "code",
   "execution_count": 48,
   "id": "53485691",
   "metadata": {},
   "outputs": [
    {
     "name": "stdout",
     "output_type": "stream",
     "text": [
      "22K views\n",
      "39K views\n",
      "21K views\n",
      "18K views\n",
      "27K views\n"
     ]
    }
   ],
   "source": [
    "viewList = []\n",
    "for view in views[0:5]:\n",
    "    print(view.text)\n",
    "    viewList.append(view.text)\n",
    "# print(viewList)"
   ]
  },
  {
   "cell_type": "markdown",
   "id": "d4fa1e71",
   "metadata": {},
   "source": [
    "### Question 5\n",
    "Q5. Write a python program to extract the time of posting of video for the first five videos."
   ]
  },
  {
   "cell_type": "code",
   "execution_count": 49,
   "id": "20c5fece",
   "metadata": {},
   "outputs": [
    {
     "data": {
      "text/plain": [
       "'3 days ago'"
      ]
     },
     "execution_count": 49,
     "metadata": {},
     "output_type": "execute_result"
    }
   ],
   "source": [
    "created[0].text"
   ]
  },
  {
   "cell_type": "code",
   "execution_count": 50,
   "id": "ba68ea88",
   "metadata": {},
   "outputs": [
    {
     "name": "stdout",
     "output_type": "stream",
     "text": [
      "3 days ago\n",
      "6 days ago\n",
      "6 days ago\n",
      "6 days ago\n",
      "6 days ago\n",
      "['3 days ago', '6 days ago', '6 days ago', '6 days ago', '6 days ago']\n"
     ]
    }
   ],
   "source": [
    "when = []\n",
    "\n",
    "for day_ago in created[:5]:\n",
    "    print(day_ago.text)\n",
    "    when.append(day_ago.text)\n",
    "print(when)"
   ]
  },
  {
   "cell_type": "code",
   "execution_count": null,
   "id": "4168f7d8",
   "metadata": {},
   "outputs": [],
   "source": []
  },
  {
   "cell_type": "code",
   "execution_count": 74,
   "id": "1bef014d",
   "metadata": {},
   "outputs": [],
   "source": [
    "### creating CSV files ########\n",
    "#### \n",
    "filename = \"video_details_assignment.csv\"\n",
    "fw = open(filename, \"a\", encoding=\"utf-8\")\n",
    "headers = \"URLs, Thumbnails URLs, Titles, Views, Created \\n\"\n",
    "fw.write(headers)\n",
    "\n",
    "# video_details = []\n",
    "\n",
    "\n",
    "for i in range(5):\n",
    "#     print(i)\n",
    "    vid_w = vidUrl[i]\n",
    "    thumb_w = thumb[i]\n",
    "    vid_title_w = vid_title[i]\n",
    "    viewList_w = viewList[i]\n",
    "    when_w = when[i]\n",
    "    combined = f\"{vid_w}, {thumb_w}, {vid_title_w}, {viewList_w}, {when_w} + \\n\"\n",
    "    fw.write(combined)\n",
    "fw.close() "
   ]
  },
  {
   "cell_type": "markdown",
   "id": "3a3fb747",
   "metadata": {},
   "source": [
    "###### The End  ##########"
   ]
  }
 ],
 "metadata": {
  "kernelspec": {
   "display_name": "Python 3 (ipykernel)",
   "language": "python",
   "name": "python3"
  },
  "language_info": {
   "codemirror_mode": {
    "name": "ipython",
    "version": 3
   },
   "file_extension": ".py",
   "mimetype": "text/x-python",
   "name": "python",
   "nbconvert_exporter": "python",
   "pygments_lexer": "ipython3",
   "version": "3.9.12"
  }
 },
 "nbformat": 4,
 "nbformat_minor": 5
}
